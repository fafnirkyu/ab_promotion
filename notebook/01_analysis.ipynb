{
 "cells": [
  {
   "cell_type": "code",
   "execution_count": 3,
   "id": "5c28b96e",
   "metadata": {},
   "outputs": [
    {
     "name": "stdout",
     "output_type": "stream",
     "text": [
      "Requirement already satisfied: scikit-learn in c:\\users\\borge\\appdata\\local\\programs\\python\\python310\\lib\\site-packages (1.1.3)\n",
      "Requirement already satisfied: pandas in c:\\users\\borge\\appdata\\local\\programs\\python\\python310\\lib\\site-packages (1.4.3)\n",
      "Requirement already satisfied: matplotlib in c:\\users\\borge\\appdata\\local\\programs\\python\\python310\\lib\\site-packages (3.5.3)\n",
      "Requirement already satisfied: seaborn in c:\\users\\borge\\appdata\\local\\programs\\python\\python310\\lib\\site-packages (0.11.2)\n",
      "Requirement already satisfied: statsmodels in c:\\users\\borge\\appdata\\local\\programs\\python\\python310\\lib\\site-packages (0.13.2)\n",
      "Requirement already satisfied: jupyterlab in c:\\users\\borge\\appdata\\local\\programs\\python\\python310\\lib\\site-packages (4.0.2)\n",
      "Collecting scikit-posthocs\n",
      "  Downloading scikit_posthocs-0.11.4-py3-none-any.whl.metadata (5.8 kB)\n",
      "Requirement already satisfied: numpy>=1.17.3 in c:\\users\\borge\\appdata\\local\\programs\\python\\python310\\lib\\site-packages (from scikit-learn) (1.23.2)\n",
      "Requirement already satisfied: scipy>=1.3.2 in c:\\users\\borge\\appdata\\local\\programs\\python\\python310\\lib\\site-packages (from scikit-learn) (1.9.0)\n",
      "Requirement already satisfied: joblib>=1.0.0 in c:\\users\\borge\\appdata\\local\\programs\\python\\python310\\lib\\site-packages (from scikit-learn) (1.1.0)\n",
      "Requirement already satisfied: threadpoolctl>=2.0.0 in c:\\users\\borge\\appdata\\local\\programs\\python\\python310\\lib\\site-packages (from scikit-learn) (3.1.0)\n",
      "Requirement already satisfied: python-dateutil>=2.8.1 in c:\\users\\borge\\appdata\\local\\programs\\python\\python310\\lib\\site-packages (from pandas) (2.8.2)\n",
      "Requirement already satisfied: pytz>=2020.1 in c:\\users\\borge\\appdata\\local\\programs\\python\\python310\\lib\\site-packages (from pandas) (2023.2)\n",
      "Requirement already satisfied: cycler>=0.10 in c:\\users\\borge\\appdata\\local\\programs\\python\\python310\\lib\\site-packages (from matplotlib) (0.11.0)\n",
      "Requirement already satisfied: fonttools>=4.22.0 in c:\\users\\borge\\appdata\\local\\programs\\python\\python310\\lib\\site-packages (from matplotlib) (4.36.0)\n",
      "Requirement already satisfied: kiwisolver>=1.0.1 in c:\\users\\borge\\appdata\\local\\programs\\python\\python310\\lib\\site-packages (from matplotlib) (1.4.4)\n",
      "Requirement already satisfied: packaging>=20.0 in c:\\users\\borge\\appdata\\local\\programs\\python\\python310\\lib\\site-packages (from matplotlib) (24.2)\n",
      "Requirement already satisfied: pillow>=6.2.0 in c:\\users\\borge\\appdata\\local\\programs\\python\\python310\\lib\\site-packages (from matplotlib) (9.2.0)\n",
      "Requirement already satisfied: pyparsing>=2.2.1 in c:\\users\\borge\\appdata\\local\\programs\\python\\python310\\lib\\site-packages (from matplotlib) (3.0.9)\n",
      "Requirement already satisfied: patsy>=0.5.2 in c:\\users\\borge\\appdata\\local\\programs\\python\\python310\\lib\\site-packages (from statsmodels) (0.5.2)\n",
      "Requirement already satisfied: async-lru>=1.0.0 in c:\\users\\borge\\appdata\\local\\programs\\python\\python310\\lib\\site-packages (from jupyterlab) (2.0.3)\n",
      "Requirement already satisfied: ipykernel in c:\\users\\borge\\appdata\\local\\programs\\python\\python310\\lib\\site-packages (from jupyterlab) (6.15.1)\n",
      "Requirement already satisfied: jinja2>=3.0.3 in c:\\users\\borge\\appdata\\local\\programs\\python\\python310\\lib\\site-packages (from jupyterlab) (3.1.2)\n",
      "Requirement already satisfied: jupyter-core in c:\\users\\borge\\appdata\\local\\programs\\python\\python310\\lib\\site-packages (from jupyterlab) (5.1.0)\n",
      "Requirement already satisfied: jupyter-lsp>=2.0.0 in c:\\users\\borge\\appdata\\local\\programs\\python\\python310\\lib\\site-packages (from jupyterlab) (2.2.0)\n",
      "Requirement already satisfied: jupyter-server<3,>=2.4.0 in c:\\users\\borge\\appdata\\local\\programs\\python\\python310\\lib\\site-packages (from jupyterlab) (2.7.0)\n",
      "Requirement already satisfied: jupyterlab-server<3,>=2.19.0 in c:\\users\\borge\\appdata\\local\\programs\\python\\python310\\lib\\site-packages (from jupyterlab) (2.23.0)\n",
      "Requirement already satisfied: notebook-shim>=0.2 in c:\\users\\borge\\appdata\\local\\programs\\python\\python310\\lib\\site-packages (from jupyterlab) (0.2.2)\n",
      "Requirement already satisfied: tomli in c:\\users\\borge\\appdata\\local\\programs\\python\\python310\\lib\\site-packages (from jupyterlab) (2.0.1)\n",
      "Requirement already satisfied: tornado>=6.2.0 in c:\\users\\borge\\appdata\\local\\programs\\python\\python310\\lib\\site-packages (from jupyterlab) (6.2)\n",
      "Requirement already satisfied: traitlets in c:\\users\\borge\\appdata\\local\\programs\\python\\python310\\lib\\site-packages (from jupyterlab) (5.9.0)\n",
      "Requirement already satisfied: anyio>=3.1.0 in c:\\users\\borge\\appdata\\local\\programs\\python\\python310\\lib\\site-packages (from jupyter-server<3,>=2.4.0->jupyterlab) (4.10.0)\n",
      "Requirement already satisfied: argon2-cffi in c:\\users\\borge\\appdata\\local\\programs\\python\\python310\\lib\\site-packages (from jupyter-server<3,>=2.4.0->jupyterlab) (21.3.0)\n",
      "Requirement already satisfied: jupyter-client>=7.4.4 in c:\\users\\borge\\appdata\\local\\programs\\python\\python310\\lib\\site-packages (from jupyter-server<3,>=2.4.0->jupyterlab) (8.3.0)\n",
      "Requirement already satisfied: jupyter-events>=0.6.0 in c:\\users\\borge\\appdata\\local\\programs\\python\\python310\\lib\\site-packages (from jupyter-server<3,>=2.4.0->jupyterlab) (0.6.3)\n",
      "Requirement already satisfied: jupyter-server-terminals in c:\\users\\borge\\appdata\\local\\programs\\python\\python310\\lib\\site-packages (from jupyter-server<3,>=2.4.0->jupyterlab) (0.4.4)\n",
      "Requirement already satisfied: nbconvert>=6.4.4 in c:\\users\\borge\\appdata\\local\\programs\\python\\python310\\lib\\site-packages (from jupyter-server<3,>=2.4.0->jupyterlab) (7.2.5)\n",
      "Requirement already satisfied: nbformat>=5.3.0 in c:\\users\\borge\\appdata\\local\\programs\\python\\python310\\lib\\site-packages (from jupyter-server<3,>=2.4.0->jupyterlab) (5.7.0)\n",
      "Requirement already satisfied: overrides in c:\\users\\borge\\appdata\\local\\programs\\python\\python310\\lib\\site-packages (from jupyter-server<3,>=2.4.0->jupyterlab) (7.3.1)\n",
      "Requirement already satisfied: prometheus-client in c:\\users\\borge\\appdata\\local\\programs\\python\\python310\\lib\\site-packages (from jupyter-server<3,>=2.4.0->jupyterlab) (0.15.0)\n",
      "Requirement already satisfied: pywinpty in c:\\users\\borge\\appdata\\local\\programs\\python\\python310\\lib\\site-packages (from jupyter-server<3,>=2.4.0->jupyterlab) (2.0.9)\n",
      "Requirement already satisfied: pyzmq>=24 in c:\\users\\borge\\appdata\\local\\programs\\python\\python310\\lib\\site-packages (from jupyter-server<3,>=2.4.0->jupyterlab) (25.1.0)\n",
      "Requirement already satisfied: send2trash in c:\\users\\borge\\appdata\\local\\programs\\python\\python310\\lib\\site-packages (from jupyter-server<3,>=2.4.0->jupyterlab) (1.8.0)\n",
      "Requirement already satisfied: terminado>=0.8.3 in c:\\users\\borge\\appdata\\local\\programs\\python\\python310\\lib\\site-packages (from jupyter-server<3,>=2.4.0->jupyterlab) (0.17.0)\n",
      "Requirement already satisfied: websocket-client in c:\\users\\borge\\appdata\\local\\programs\\python\\python310\\lib\\site-packages (from jupyter-server<3,>=2.4.0->jupyterlab) (1.4.2)\n",
      "Requirement already satisfied: babel>=2.10 in c:\\users\\borge\\appdata\\local\\programs\\python\\python310\\lib\\site-packages (from jupyterlab-server<3,>=2.19.0->jupyterlab) (2.12.1)\n",
      "Requirement already satisfied: json5>=0.9.0 in c:\\users\\borge\\appdata\\local\\programs\\python\\python310\\lib\\site-packages (from jupyterlab-server<3,>=2.19.0->jupyterlab) (0.9.14)\n",
      "Requirement already satisfied: jsonschema>=4.17.3 in c:\\users\\borge\\appdata\\local\\programs\\python\\python310\\lib\\site-packages (from jupyterlab-server<3,>=2.19.0->jupyterlab) (4.17.3)\n",
      "Requirement already satisfied: requests>=2.28 in c:\\users\\borge\\appdata\\local\\programs\\python\\python310\\lib\\site-packages (from jupyterlab-server<3,>=2.19.0->jupyterlab) (2.32.5)\n",
      "Requirement already satisfied: exceptiongroup>=1.0.2 in c:\\users\\borge\\appdata\\local\\programs\\python\\python310\\lib\\site-packages (from anyio>=3.1.0->jupyter-server<3,>=2.4.0->jupyterlab) (1.3.0)\n",
      "Requirement already satisfied: idna>=2.8 in c:\\users\\borge\\appdata\\local\\programs\\python\\python310\\lib\\site-packages (from anyio>=3.1.0->jupyter-server<3,>=2.4.0->jupyterlab) (3.4)\n",
      "Requirement already satisfied: sniffio>=1.1 in c:\\users\\borge\\appdata\\local\\programs\\python\\python310\\lib\\site-packages (from anyio>=3.1.0->jupyter-server<3,>=2.4.0->jupyterlab) (1.3.0)\n",
      "Requirement already satisfied: typing_extensions>=4.5 in c:\\users\\borge\\appdata\\local\\programs\\python\\python310\\lib\\site-packages (from anyio>=3.1.0->jupyter-server<3,>=2.4.0->jupyterlab) (4.15.0)\n",
      "Requirement already satisfied: MarkupSafe>=2.0 in c:\\users\\borge\\appdata\\local\\programs\\python\\python310\\lib\\site-packages (from jinja2>=3.0.3->jupyterlab) (2.1.1)\n",
      "Requirement already satisfied: attrs>=17.4.0 in c:\\users\\borge\\appdata\\local\\programs\\python\\python310\\lib\\site-packages (from jsonschema>=4.17.3->jupyterlab-server<3,>=2.19.0->jupyterlab) (22.1.0)\n",
      "Requirement already satisfied: pyrsistent!=0.17.0,!=0.17.1,!=0.17.2,>=0.14.0 in c:\\users\\borge\\appdata\\local\\programs\\python\\python310\\lib\\site-packages (from jsonschema>=4.17.3->jupyterlab-server<3,>=2.19.0->jupyterlab) (0.19.2)\n",
      "Requirement already satisfied: platformdirs>=2.5 in c:\\users\\borge\\appdata\\local\\programs\\python\\python310\\lib\\site-packages (from jupyter-core->jupyterlab) (2.5.4)\n",
      "Requirement already satisfied: pywin32>=1.0 in c:\\users\\borge\\appdata\\local\\programs\\python\\python310\\lib\\site-packages (from jupyter-core->jupyterlab) (304)\n",
      "Requirement already satisfied: python-json-logger>=2.0.4 in c:\\users\\borge\\appdata\\local\\programs\\python\\python310\\lib\\site-packages (from jupyter-events>=0.6.0->jupyter-server<3,>=2.4.0->jupyterlab) (2.0.7)\n",
      "Requirement already satisfied: pyyaml>=5.3 in c:\\users\\borge\\appdata\\local\\programs\\python\\python310\\lib\\site-packages (from jupyter-events>=0.6.0->jupyter-server<3,>=2.4.0->jupyterlab) (6.0)\n",
      "Requirement already satisfied: rfc3339-validator in c:\\users\\borge\\appdata\\local\\programs\\python\\python310\\lib\\site-packages (from jupyter-events>=0.6.0->jupyter-server<3,>=2.4.0->jupyterlab) (0.1.4)\n",
      "Requirement already satisfied: rfc3986-validator>=0.1.1 in c:\\users\\borge\\appdata\\local\\programs\\python\\python310\\lib\\site-packages (from jupyter-events>=0.6.0->jupyter-server<3,>=2.4.0->jupyterlab) (0.1.1)\n",
      "Requirement already satisfied: fqdn in c:\\users\\borge\\appdata\\local\\programs\\python\\python310\\lib\\site-packages (from jsonschema[format-nongpl]>=3.2.0->jupyter-events>=0.6.0->jupyter-server<3,>=2.4.0->jupyterlab) (1.5.1)\n",
      "Requirement already satisfied: isoduration in c:\\users\\borge\\appdata\\local\\programs\\python\\python310\\lib\\site-packages (from jsonschema[format-nongpl]>=3.2.0->jupyter-events>=0.6.0->jupyter-server<3,>=2.4.0->jupyterlab) (20.11.0)\n",
      "Requirement already satisfied: jsonpointer>1.13 in c:\\users\\borge\\appdata\\local\\programs\\python\\python310\\lib\\site-packages (from jsonschema[format-nongpl]>=3.2.0->jupyter-events>=0.6.0->jupyter-server<3,>=2.4.0->jupyterlab) (2.4)\n",
      "Requirement already satisfied: uri-template in c:\\users\\borge\\appdata\\local\\programs\\python\\python310\\lib\\site-packages (from jsonschema[format-nongpl]>=3.2.0->jupyter-events>=0.6.0->jupyter-server<3,>=2.4.0->jupyterlab) (1.3.0)\n",
      "Requirement already satisfied: webcolors>=1.11 in c:\\users\\borge\\appdata\\local\\programs\\python\\python310\\lib\\site-packages (from jsonschema[format-nongpl]>=3.2.0->jupyter-events>=0.6.0->jupyter-server<3,>=2.4.0->jupyterlab) (1.13)\n",
      "Requirement already satisfied: beautifulsoup4 in c:\\users\\borge\\appdata\\local\\programs\\python\\python310\\lib\\site-packages (from nbconvert>=6.4.4->jupyter-server<3,>=2.4.0->jupyterlab) (4.11.1)\n",
      "Requirement already satisfied: bleach in c:\\users\\borge\\appdata\\local\\programs\\python\\python310\\lib\\site-packages (from nbconvert>=6.4.4->jupyter-server<3,>=2.4.0->jupyterlab) (5.0.1)\n",
      "Requirement already satisfied: defusedxml in c:\\users\\borge\\appdata\\local\\programs\\python\\python310\\lib\\site-packages (from nbconvert>=6.4.4->jupyter-server<3,>=2.4.0->jupyterlab) (0.7.1)\n",
      "Requirement already satisfied: jupyterlab-pygments in c:\\users\\borge\\appdata\\local\\programs\\python\\python310\\lib\\site-packages (from nbconvert>=6.4.4->jupyter-server<3,>=2.4.0->jupyterlab) (0.2.2)\n",
      "Requirement already satisfied: mistune<3,>=2.0.3 in c:\\users\\borge\\appdata\\local\\programs\\python\\python310\\lib\\site-packages (from nbconvert>=6.4.4->jupyter-server<3,>=2.4.0->jupyterlab) (2.0.4)\n",
      "Requirement already satisfied: nbclient>=0.5.0 in c:\\users\\borge\\appdata\\local\\programs\\python\\python310\\lib\\site-packages (from nbconvert>=6.4.4->jupyter-server<3,>=2.4.0->jupyterlab) (0.7.2)\n",
      "Requirement already satisfied: pandocfilters>=1.4.1 in c:\\users\\borge\\appdata\\local\\programs\\python\\python310\\lib\\site-packages (from nbconvert>=6.4.4->jupyter-server<3,>=2.4.0->jupyterlab) (1.5.0)\n",
      "Requirement already satisfied: pygments>=2.4.1 in c:\\users\\borge\\appdata\\local\\programs\\python\\python310\\lib\\site-packages (from nbconvert>=6.4.4->jupyter-server<3,>=2.4.0->jupyterlab) (2.13.0)\n",
      "Requirement already satisfied: tinycss2 in c:\\users\\borge\\appdata\\local\\programs\\python\\python310\\lib\\site-packages (from nbconvert>=6.4.4->jupyter-server<3,>=2.4.0->jupyterlab) (1.2.1)\n",
      "Requirement already satisfied: fastjsonschema in c:\\users\\borge\\appdata\\local\\programs\\python\\python310\\lib\\site-packages (from nbformat>=5.3.0->jupyter-server<3,>=2.4.0->jupyterlab) (2.16.2)\n",
      "Requirement already satisfied: six in c:\\users\\borge\\appdata\\local\\programs\\python\\python310\\lib\\site-packages (from patsy>=0.5.2->statsmodels) (1.16.0)\n",
      "Requirement already satisfied: charset_normalizer<4,>=2 in c:\\users\\borge\\appdata\\local\\programs\\python\\python310\\lib\\site-packages (from requests>=2.28->jupyterlab-server<3,>=2.19.0->jupyterlab) (2.1.1)\n",
      "Requirement already satisfied: urllib3<3,>=1.21.1 in c:\\users\\borge\\appdata\\local\\programs\\python\\python310\\lib\\site-packages (from requests>=2.28->jupyterlab-server<3,>=2.19.0->jupyterlab) (1.25.11)\n",
      "Requirement already satisfied: certifi>=2017.4.17 in c:\\users\\borge\\appdata\\local\\programs\\python\\python310\\lib\\site-packages (from requests>=2.28->jupyterlab-server<3,>=2.19.0->jupyterlab) (2022.12.7)\n",
      "Requirement already satisfied: argon2-cffi-bindings in c:\\users\\borge\\appdata\\local\\programs\\python\\python310\\lib\\site-packages (from argon2-cffi->jupyter-server<3,>=2.4.0->jupyterlab) (21.2.0)\n",
      "Requirement already satisfied: cffi>=1.0.1 in c:\\users\\borge\\appdata\\local\\programs\\python\\python310\\lib\\site-packages (from argon2-cffi-bindings->argon2-cffi->jupyter-server<3,>=2.4.0->jupyterlab) (1.15.1)\n",
      "Requirement already satisfied: pycparser in c:\\users\\borge\\appdata\\local\\programs\\python\\python310\\lib\\site-packages (from cffi>=1.0.1->argon2-cffi-bindings->argon2-cffi->jupyter-server<3,>=2.4.0->jupyterlab) (2.21)\n",
      "Requirement already satisfied: soupsieve>1.2 in c:\\users\\borge\\appdata\\local\\programs\\python\\python310\\lib\\site-packages (from beautifulsoup4->nbconvert>=6.4.4->jupyter-server<3,>=2.4.0->jupyterlab) (2.3.2.post1)\n",
      "Requirement already satisfied: webencodings in c:\\users\\borge\\appdata\\local\\programs\\python\\python310\\lib\\site-packages (from bleach->nbconvert>=6.4.4->jupyter-server<3,>=2.4.0->jupyterlab) (0.5.1)\n",
      "Requirement already satisfied: debugpy>=1.0 in c:\\users\\borge\\appdata\\local\\programs\\python\\python310\\lib\\site-packages (from ipykernel->jupyterlab) (1.6.3)\n",
      "Requirement already satisfied: ipython>=7.23.1 in c:\\users\\borge\\appdata\\local\\programs\\python\\python310\\lib\\site-packages (from ipykernel->jupyterlab) (8.4.0)\n",
      "Requirement already satisfied: matplotlib-inline>=0.1 in c:\\users\\borge\\appdata\\local\\programs\\python\\python310\\lib\\site-packages (from ipykernel->jupyterlab) (0.1.5)\n",
      "Requirement already satisfied: nest-asyncio in c:\\users\\borge\\appdata\\local\\programs\\python\\python310\\lib\\site-packages (from ipykernel->jupyterlab) (1.5.5)\n",
      "Requirement already satisfied: psutil in c:\\users\\borge\\appdata\\local\\programs\\python\\python310\\lib\\site-packages (from ipykernel->jupyterlab) (5.9.1)\n",
      "Requirement already satisfied: backcall in c:\\users\\borge\\appdata\\local\\programs\\python\\python310\\lib\\site-packages (from ipython>=7.23.1->ipykernel->jupyterlab) (0.2.0)\n",
      "Requirement already satisfied: decorator in c:\\users\\borge\\appdata\\local\\programs\\python\\python310\\lib\\site-packages (from ipython>=7.23.1->ipykernel->jupyterlab) (5.1.1)\n",
      "Requirement already satisfied: jedi>=0.16 in c:\\users\\borge\\appdata\\local\\programs\\python\\python310\\lib\\site-packages (from ipython>=7.23.1->ipykernel->jupyterlab) (0.18.1)\n",
      "Requirement already satisfied: pickleshare in c:\\users\\borge\\appdata\\local\\programs\\python\\python310\\lib\\site-packages (from ipython>=7.23.1->ipykernel->jupyterlab) (0.7.5)\n",
      "Requirement already satisfied: prompt-toolkit!=3.0.0,!=3.0.1,<3.1.0,>=2.0.0 in c:\\users\\borge\\appdata\\local\\programs\\python\\python310\\lib\\site-packages (from ipython>=7.23.1->ipykernel->jupyterlab) (3.0.30)\n",
      "Requirement already satisfied: setuptools>=18.5 in c:\\users\\borge\\appdata\\local\\programs\\python\\python310\\lib\\site-packages (from ipython>=7.23.1->ipykernel->jupyterlab) (68.2.2)\n",
      "Requirement already satisfied: stack-data in c:\\users\\borge\\appdata\\local\\programs\\python\\python310\\lib\\site-packages (from ipython>=7.23.1->ipykernel->jupyterlab) (0.4.0)\n",
      "Requirement already satisfied: colorama in c:\\users\\borge\\appdata\\local\\programs\\python\\python310\\lib\\site-packages (from ipython>=7.23.1->ipykernel->jupyterlab) (0.4.5)\n",
      "Requirement already satisfied: wcwidth in c:\\users\\borge\\appdata\\local\\programs\\python\\python310\\lib\\site-packages (from prompt-toolkit!=3.0.0,!=3.0.1,<3.1.0,>=2.0.0->ipython>=7.23.1->ipykernel->jupyterlab) (0.2.5)\n",
      "Requirement already satisfied: parso<0.9.0,>=0.8.0 in c:\\users\\borge\\appdata\\local\\programs\\python\\python310\\lib\\site-packages (from jedi>=0.16->ipython>=7.23.1->ipykernel->jupyterlab) (0.8.3)\n",
      "Requirement already satisfied: arrow>=0.15.0 in c:\\users\\borge\\appdata\\local\\programs\\python\\python310\\lib\\site-packages (from isoduration->jsonschema[format-nongpl]>=3.2.0->jupyter-events>=0.6.0->jupyter-server<3,>=2.4.0->jupyterlab) (1.2.3)\n",
      "Requirement already satisfied: executing in c:\\users\\borge\\appdata\\local\\programs\\python\\python310\\lib\\site-packages (from stack-data->ipython>=7.23.1->ipykernel->jupyterlab) (0.10.0)\n",
      "Requirement already satisfied: asttokens in c:\\users\\borge\\appdata\\local\\programs\\python\\python310\\lib\\site-packages (from stack-data->ipython>=7.23.1->ipykernel->jupyterlab) (2.0.8)\n",
      "Requirement already satisfied: pure-eval in c:\\users\\borge\\appdata\\local\\programs\\python\\python310\\lib\\site-packages (from stack-data->ipython>=7.23.1->ipykernel->jupyterlab) (0.2.2)\n",
      "Downloading scikit_posthocs-0.11.4-py3-none-any.whl (33 kB)\n",
      "Installing collected packages: scikit-posthocs\n",
      "Successfully installed scikit-posthocs-0.11.4\n"
     ]
    },
    {
     "name": "stderr",
     "output_type": "stream",
     "text": [
      "WARNING: Error parsing dependencies of arcgis: .* suffix can only be used with `==` or `!=` operators\n",
      "    keyring (<=21.8.*,>=19)\n",
      "             ~~~~~~~^\n"
     ]
    }
   ],
   "source": [
    "!pip install scikit-learn pandas matplotlib seaborn statsmodels jupyterlab scikit-posthocs"
   ]
  },
  {
   "cell_type": "markdown",
   "id": "608ef7f6",
   "metadata": {},
   "source": [
    "## 1. Setup"
   ]
  },
  {
   "cell_type": "code",
   "execution_count": 9,
   "id": "a3a4b7e5",
   "metadata": {},
   "outputs": [
    {
     "data": {
      "text/html": [
       "<div>\n",
       "<style scoped>\n",
       "    .dataframe tbody tr th:only-of-type {\n",
       "        vertical-align: middle;\n",
       "    }\n",
       "\n",
       "    .dataframe tbody tr th {\n",
       "        vertical-align: top;\n",
       "    }\n",
       "\n",
       "    .dataframe thead th {\n",
       "        text-align: right;\n",
       "    }\n",
       "</style>\n",
       "<table border=\"1\" class=\"dataframe\">\n",
       "  <thead>\n",
       "    <tr style=\"text-align: right;\">\n",
       "      <th></th>\n",
       "      <th>MarketID</th>\n",
       "      <th>MarketSize</th>\n",
       "      <th>LocationID</th>\n",
       "      <th>AgeOfStore</th>\n",
       "      <th>Promotion</th>\n",
       "      <th>week</th>\n",
       "      <th>SalesInThousands</th>\n",
       "    </tr>\n",
       "  </thead>\n",
       "  <tbody>\n",
       "    <tr>\n",
       "      <th>0</th>\n",
       "      <td>1</td>\n",
       "      <td>Medium</td>\n",
       "      <td>1</td>\n",
       "      <td>4</td>\n",
       "      <td>3</td>\n",
       "      <td>1</td>\n",
       "      <td>33.73</td>\n",
       "    </tr>\n",
       "    <tr>\n",
       "      <th>1</th>\n",
       "      <td>1</td>\n",
       "      <td>Medium</td>\n",
       "      <td>1</td>\n",
       "      <td>4</td>\n",
       "      <td>3</td>\n",
       "      <td>2</td>\n",
       "      <td>35.67</td>\n",
       "    </tr>\n",
       "    <tr>\n",
       "      <th>2</th>\n",
       "      <td>1</td>\n",
       "      <td>Medium</td>\n",
       "      <td>1</td>\n",
       "      <td>4</td>\n",
       "      <td>3</td>\n",
       "      <td>3</td>\n",
       "      <td>29.03</td>\n",
       "    </tr>\n",
       "    <tr>\n",
       "      <th>3</th>\n",
       "      <td>1</td>\n",
       "      <td>Medium</td>\n",
       "      <td>1</td>\n",
       "      <td>4</td>\n",
       "      <td>3</td>\n",
       "      <td>4</td>\n",
       "      <td>39.25</td>\n",
       "    </tr>\n",
       "    <tr>\n",
       "      <th>4</th>\n",
       "      <td>1</td>\n",
       "      <td>Medium</td>\n",
       "      <td>2</td>\n",
       "      <td>5</td>\n",
       "      <td>2</td>\n",
       "      <td>1</td>\n",
       "      <td>27.81</td>\n",
       "    </tr>\n",
       "  </tbody>\n",
       "</table>\n",
       "</div>"
      ],
      "text/plain": [
       "   MarketID MarketSize  LocationID  AgeOfStore  Promotion  week  \\\n",
       "0         1     Medium           1           4          3     1   \n",
       "1         1     Medium           1           4          3     2   \n",
       "2         1     Medium           1           4          3     3   \n",
       "3         1     Medium           1           4          3     4   \n",
       "4         1     Medium           2           5          2     1   \n",
       "\n",
       "   SalesInThousands  \n",
       "0             33.73  \n",
       "1             35.67  \n",
       "2             29.03  \n",
       "3             39.25  \n",
       "4             27.81  "
      ]
     },
     "execution_count": 9,
     "metadata": {},
     "output_type": "execute_result"
    }
   ],
   "source": [
    "import pandas as pd\n",
    "import numpy as np\n",
    "import matplotlib.pyplot as plt\n",
    "import seaborn as sns\n",
    "import statsmodels.api as sm\n",
    "import statsmodels.formula.api as smf\n",
    "from scipy import stats\n",
    "import scikit_posthocs as sp\n",
    "\n",
    "# Plot style\n",
    "sns.set_theme(style=\"whitegrid\", context=\"talk\")\n",
    "\n",
    "DATA_PATH = \"../data/WA_Marketing-Campaign.csv\"\n",
    "df = pd.read_csv(DATA_PATH)\n",
    "df.head()\n"
   ]
  },
  {
   "cell_type": "markdown",
   "id": "6088c850",
   "metadata": {},
   "source": [
    "## 2. Data Exploration"
   ]
  },
  {
   "cell_type": "code",
   "execution_count": 10,
   "id": "01f11f86",
   "metadata": {},
   "outputs": [
    {
     "name": "stdout",
     "output_type": "stream",
     "text": [
      "<class 'pandas.core.frame.DataFrame'>\n",
      "RangeIndex: 548 entries, 0 to 547\n",
      "Data columns (total 7 columns):\n",
      " #   Column            Non-Null Count  Dtype  \n",
      "---  ------            --------------  -----  \n",
      " 0   MarketID          548 non-null    int64  \n",
      " 1   MarketSize        548 non-null    object \n",
      " 2   LocationID        548 non-null    int64  \n",
      " 3   AgeOfStore        548 non-null    int64  \n",
      " 4   Promotion         548 non-null    int64  \n",
      " 5   week              548 non-null    int64  \n",
      " 6   SalesInThousands  548 non-null    float64\n",
      "dtypes: float64(1), int64(5), object(1)\n",
      "memory usage: 30.1+ KB\n"
     ]
    },
    {
     "data": {
      "image/png": "[encoded data removed]",
      "text/plain": [
       "<Figure size 640x480 with 1 Axes>"
      ]
     },
     "metadata": {},
     "output_type": "display_data"
    },
    {
     "data": {
      "image/png": "[encoded data removed]",
      "text/plain": [
       "<Figure size 640x480 with 1 Axes>"
      ]
     },
     "metadata": {},
     "output_type": "display_data"
    }
   ],
   "source": [
    "df.info()\n",
    "df.describe()\n",
    "\n",
    "# Distribution of promotions\n",
    "sns.countplot(x=\"Promotion\", data=df)\n",
    "plt.title(\"Distribution of Promotions Across Stores\")\n",
    "plt.show()\n",
    "\n",
    "# Sales over time\n",
    "sns.lineplot(x=\"week\", y=\"SalesInThousands\", hue=\"Promotion\", data=df, estimator=\"mean\")\n",
    "plt.title(\"Average Sales Over Time by Promotion\")\n",
    "plt.ylabel(\"Sales (thousands)\")\n",
    "plt.show()\n"
   ]
  },
  {
   "cell_type": "markdown",
   "id": "ab3a92bd",
   "metadata": {},
   "source": [
    "## 3. Sanity Checks"
   ]
  },
  {
   "cell_type": "code",
   "execution_count": 11,
   "id": "ffa2c533",
   "metadata": {},
   "outputs": [
    {
     "data": {
      "text/html": [
       "<div>\n",
       "<style scoped>\n",
       "    .dataframe tbody tr th:only-of-type {\n",
       "        vertical-align: middle;\n",
       "    }\n",
       "\n",
       "    .dataframe tbody tr th {\n",
       "        vertical-align: top;\n",
       "    }\n",
       "\n",
       "    .dataframe thead th {\n",
       "        text-align: right;\n",
       "    }\n",
       "</style>\n",
       "<table border=\"1\" class=\"dataframe\">\n",
       "  <thead>\n",
       "    <tr style=\"text-align: right;\">\n",
       "      <th></th>\n",
       "      <th>AgeOfStore</th>\n",
       "    </tr>\n",
       "    <tr>\n",
       "      <th>Promotion</th>\n",
       "      <th></th>\n",
       "    </tr>\n",
       "  </thead>\n",
       "  <tbody>\n",
       "    <tr>\n",
       "      <th>1</th>\n",
       "      <td>8.279070</td>\n",
       "    </tr>\n",
       "    <tr>\n",
       "      <th>2</th>\n",
       "      <td>7.978723</td>\n",
       "    </tr>\n",
       "    <tr>\n",
       "      <th>3</th>\n",
       "      <td>9.234043</td>\n",
       "    </tr>\n",
       "  </tbody>\n",
       "</table>\n",
       "</div>"
      ],
      "text/plain": [
       "           AgeOfStore\n",
       "Promotion            \n",
       "1            8.279070\n",
       "2            7.978723\n",
       "3            9.234043"
      ]
     },
     "execution_count": 11,
     "metadata": {},
     "output_type": "execute_result"
    }
   ],
   "source": [
    "# Compare covariates across groups (MarketSize, AgeOfStore)\n",
    "df.groupby(\"Promotion\")[[\"MarketSize\", \"AgeOfStore\"]].mean()"
   ]
  },
  {
   "cell_type": "markdown",
   "id": "3a7e11c6",
   "metadata": {},
   "source": [
    "## 4. Power & Sample Size"
   ]
  },
  {
   "cell_type": "code",
   "execution_count": 12,
   "id": "c9bc1168",
   "metadata": {},
   "outputs": [
    {
     "data": {
      "text/plain": [
       "0.3178022028797555"
      ]
     },
     "execution_count": 12,
     "metadata": {},
     "output_type": "execute_result"
    }
   ],
   "source": [
    "# Simple check of sample sizes per promotion\n",
    "df.groupby(\"Promotion\")[\"LocationID\"].nunique()\n",
    "\n",
    "# Approximate power calculation\n",
    "import statsmodels.stats.power as smp\n",
    "\n",
    "effect_size = 0.3  # placeholder, will adjust based on observed\n",
    "analysis = smp.TTestIndPower()\n",
    "analysis.solve_power(effect_size=effect_size, nobs1=50, alpha=0.05, power=None)"
   ]
  },
  {
   "cell_type": "markdown",
   "id": "b86ab731",
   "metadata": {},
   "source": [
    "## 5. ANOVA Test"
   ]
  },
  {
   "cell_type": "code",
   "execution_count": 13,
   "id": "0c9928bf",
   "metadata": {},
   "outputs": [
    {
     "data": {
      "text/html": [
       "<div>\n",
       "<style scoped>\n",
       "    .dataframe tbody tr th:only-of-type {\n",
       "        vertical-align: middle;\n",
       "    }\n",
       "\n",
       "    .dataframe tbody tr th {\n",
       "        vertical-align: top;\n",
       "    }\n",
       "\n",
       "    .dataframe thead th {\n",
       "        text-align: right;\n",
       "    }\n",
       "</style>\n",
       "<table border=\"1\" class=\"dataframe\">\n",
       "  <thead>\n",
       "    <tr style=\"text-align: right;\">\n",
       "      <th></th>\n",
       "      <th>sum_sq</th>\n",
       "      <th>df</th>\n",
       "      <th>F</th>\n",
       "      <th>PR(&gt;F)</th>\n",
       "    </tr>\n",
       "  </thead>\n",
       "  <tbody>\n",
       "    <tr>\n",
       "      <th>C(Promotion)</th>\n",
       "      <td>11449.174291</td>\n",
       "      <td>2.0</td>\n",
       "      <td>21.953486</td>\n",
       "      <td>6.765849e-10</td>\n",
       "    </tr>\n",
       "    <tr>\n",
       "      <th>Residual</th>\n",
       "      <td>142114.105414</td>\n",
       "      <td>545.0</td>\n",
       "      <td>NaN</td>\n",
       "      <td>NaN</td>\n",
       "    </tr>\n",
       "  </tbody>\n",
       "</table>\n",
       "</div>"
      ],
      "text/plain": [
       "                     sum_sq     df          F        PR(>F)\n",
       "C(Promotion)   11449.174291    2.0  21.953486  6.765849e-10\n",
       "Residual      142114.105414  545.0        NaN           NaN"
      ]
     },
     "execution_count": 13,
     "metadata": {},
     "output_type": "execute_result"
    }
   ],
   "source": [
    "anova_model = smf.ols(\"SalesInThousands ~ C(Promotion)\", data=df).fit()\n",
    "anova_table = sm.stats.anova_lm(anova_model, typ=2)\n",
    "anova_table"
   ]
  },
  {
   "cell_type": "markdown",
   "id": "f4d71c8d",
   "metadata": {},
   "source": [
    "## 6. Post-hoc Pairwise Tests"
   ]
  },
  {
   "cell_type": "code",
   "execution_count": 14,
   "id": "3755d0c4",
   "metadata": {},
   "outputs": [
    {
     "data": {
      "text/html": [
       "<div>\n",
       "<style scoped>\n",
       "    .dataframe tbody tr th:only-of-type {\n",
       "        vertical-align: middle;\n",
       "    }\n",
       "\n",
       "    .dataframe tbody tr th {\n",
       "        vertical-align: top;\n",
       "    }\n",
       "\n",
       "    .dataframe thead th {\n",
       "        text-align: right;\n",
       "    }\n",
       "</style>\n",
       "<table border=\"1\" class=\"dataframe\">\n",
       "  <thead>\n",
       "    <tr style=\"text-align: right;\">\n",
       "      <th></th>\n",
       "      <th>3</th>\n",
       "      <th>2</th>\n",
       "      <th>1</th>\n",
       "    </tr>\n",
       "  </thead>\n",
       "  <tbody>\n",
       "    <tr>\n",
       "      <th>3</th>\n",
       "      <td>1.000000</td>\n",
       "      <td>5.452136e-06</td>\n",
       "      <td>2.443878e-01</td>\n",
       "    </tr>\n",
       "    <tr>\n",
       "      <th>2</th>\n",
       "      <td>0.000005</td>\n",
       "      <td>1.000000e+00</td>\n",
       "      <td>1.624653e-09</td>\n",
       "    </tr>\n",
       "    <tr>\n",
       "      <th>1</th>\n",
       "      <td>0.244388</td>\n",
       "      <td>1.624653e-09</td>\n",
       "      <td>1.000000e+00</td>\n",
       "    </tr>\n",
       "  </tbody>\n",
       "</table>\n",
       "</div>"
      ],
      "text/plain": [
       "          3             2             1\n",
       "3  1.000000  5.452136e-06  2.443878e-01\n",
       "2  0.000005  1.000000e+00  1.624653e-09\n",
       "1  0.244388  1.624653e-09  1.000000e+00"
      ]
     },
     "execution_count": 14,
     "metadata": {},
     "output_type": "execute_result"
    }
   ],
   "source": [
    "sp.posthoc_tukey(df, val_col=\"SalesInThousands\", group_col=\"Promotion\")"
   ]
  },
  {
   "cell_type": "markdown",
   "id": "24512eaf",
   "metadata": {},
   "source": [
    "## 7. Regression with Covariates"
   ]
  },
  {
   "cell_type": "code",
   "execution_count": 15,
   "id": "f08c39a2",
   "metadata": {},
   "outputs": [
    {
     "data": {
      "text/html": [
       "<table class=\"simpletable\">\n",
       "<caption>OLS Regression Results</caption>\n",
       "<tr>\n",
       "  <th>Dep. Variable:</th>    <td>SalesInThousands</td> <th>  R-squared:         </th> <td>   0.582</td> \n",
       "</tr>\n",
       "<tr>\n",
       "  <th>Model:</th>                   <td>OLS</td>       <th>  Adj. R-squared:    </th> <td>   0.578</td> \n",
       "</tr>\n",
       "<tr>\n",
       "  <th>Method:</th>             <td>Least Squares</td>  <th>  F-statistic:       </th> <td>   150.9</td> \n",
       "</tr>\n",
       "<tr>\n",
       "  <th>Date:</th>             <td>Sun, 07 Sep 2025</td> <th>  Prob (F-statistic):</th> <td>3.35e-100</td>\n",
       "</tr>\n",
       "<tr>\n",
       "  <th>Time:</th>                 <td>22:27:30</td>     <th>  Log-Likelihood:    </th> <td> -2082.7</td> \n",
       "</tr>\n",
       "<tr>\n",
       "  <th>No. Observations:</th>      <td>   548</td>      <th>  AIC:               </th> <td>   4177.</td> \n",
       "</tr>\n",
       "<tr>\n",
       "  <th>Df Residuals:</th>          <td>   542</td>      <th>  BIC:               </th> <td>   4203.</td> \n",
       "</tr>\n",
       "<tr>\n",
       "  <th>Df Model:</th>              <td>     5</td>      <th>                     </th>     <td> </td>    \n",
       "</tr>\n",
       "<tr>\n",
       "  <th>Covariance Type:</th>      <td>nonrobust</td>    <th>                     </th>     <td> </td>    \n",
       "</tr>\n",
       "</table>\n",
       "<table class=\"simpletable\">\n",
       "<tr>\n",
       "             <td></td>                <th>coef</th>     <th>std err</th>      <th>t</th>      <th>P>|t|</th>  <th>[0.025</th>    <th>0.975]</th>  \n",
       "</tr>\n",
       "<tr>\n",
       "  <th>Intercept</th>               <td>   74.0133</td> <td>    1.184</td> <td>   62.501</td> <td> 0.000</td> <td>   71.687</td> <td>   76.340</td>\n",
       "</tr>\n",
       "<tr>\n",
       "  <th>C(Promotion)[T.2]</th>       <td>  -10.7521</td> <td>    1.149</td> <td>   -9.355</td> <td> 0.000</td> <td>  -13.010</td> <td>   -8.494</td>\n",
       "</tr>\n",
       "<tr>\n",
       "  <th>C(Promotion)[T.3]</th>       <td>   -1.0739</td> <td>    1.152</td> <td>   -0.932</td> <td> 0.352</td> <td>   -3.337</td> <td>    1.189</td>\n",
       "</tr>\n",
       "<tr>\n",
       "  <th>C(MarketSize)[T.Medium]</th> <td>  -26.6327</td> <td>    1.046</td> <td>  -25.470</td> <td> 0.000</td> <td>  -28.687</td> <td>  -24.579</td>\n",
       "</tr>\n",
       "<tr>\n",
       "  <th>C(MarketSize)[T.Small]</th>  <td>  -14.0727</td> <td>    1.661</td> <td>   -8.472</td> <td> 0.000</td> <td>  -17.336</td> <td>  -10.810</td>\n",
       "</tr>\n",
       "<tr>\n",
       "  <th>AgeOfStore</th>              <td>    0.0709</td> <td>    0.071</td> <td>    0.995</td> <td> 0.320</td> <td>   -0.069</td> <td>    0.211</td>\n",
       "</tr>\n",
       "</table>\n",
       "<table class=\"simpletable\">\n",
       "<tr>\n",
       "  <th>Omnibus:</th>       <td>15.194</td> <th>  Durbin-Watson:     </th> <td>   0.547</td>\n",
       "</tr>\n",
       "<tr>\n",
       "  <th>Prob(Omnibus):</th> <td> 0.001</td> <th>  Jarque-Bera (JB):  </th> <td>   8.088</td>\n",
       "</tr>\n",
       "<tr>\n",
       "  <th>Skew:</th>          <td>-0.067</td> <th>  Prob(JB):          </th> <td>  0.0175</td>\n",
       "</tr>\n",
       "<tr>\n",
       "  <th>Kurtosis:</th>      <td> 2.420</td> <th>  Cond. No.          </th> <td>    43.4</td>\n",
       "</tr>\n",
       "</table><br/><br/>Notes:<br/>[1] Standard Errors assume that the covariance matrix of the errors is correctly specified."
      ],
      "text/plain": [
       "<class 'statsmodels.iolib.summary.Summary'>\n",
       "\"\"\"\n",
       "                            OLS Regression Results                            \n",
       "==============================================================================\n",
       "Dep. Variable:       SalesInThousands   R-squared:                       0.582\n",
       "Model:                            OLS   Adj. R-squared:                  0.578\n",
       "Method:                 Least Squares   F-statistic:                     150.9\n",
       "Date:                Sun, 07 Sep 2025   Prob (F-statistic):          3.35e-100\n",
       "Time:                        22:27:30   Log-Likelihood:                -2082.7\n",
       "No. Observations:                 548   AIC:                             4177.\n",
       "Df Residuals:                     542   BIC:                             4203.\n",
       "Df Model:                           5                                         \n",
       "Covariance Type:            nonrobust                                         \n",
       "===========================================================================================\n",
       "                              coef    std err          t      P>|t|      [0.025      0.975]\n",
       "-------------------------------------------------------------------------------------------\n",
       "Intercept                  74.0133      1.184     62.501      0.000      71.687      76.340\n",
       "C(Promotion)[T.2]         -10.7521      1.149     -9.355      0.000     -13.010      -8.494\n",
       "C(Promotion)[T.3]          -1.0739      1.152     -0.932      0.352      -3.337       1.189\n",
       "C(MarketSize)[T.Medium]   -26.6327      1.046    -25.470      0.000     -28.687     -24.579\n",
       "C(MarketSize)[T.Small]    -14.0727      1.661     -8.472      0.000     -17.336     -10.810\n",
       "AgeOfStore                  0.0709      0.071      0.995      0.320      -0.069       0.211\n",
       "==============================================================================\n",
       "Omnibus:                       15.194   Durbin-Watson:                   0.547\n",
       "Prob(Omnibus):                  0.001   Jarque-Bera (JB):                8.088\n",
       "Skew:                          -0.067   Prob(JB):                       0.0175\n",
       "Kurtosis:                       2.420   Cond. No.                         43.4\n",
       "==============================================================================\n",
       "\n",
       "Notes:\n",
       "[1] Standard Errors assume that the covariance matrix of the errors is correctly specified.\n",
       "\"\"\""
      ]
     },
     "execution_count": 15,
     "metadata": {},
     "output_type": "execute_result"
    }
   ],
   "source": [
    "reg_model = smf.ols(\"SalesInThousands ~ C(Promotion) + AgeOfStore + C(MarketSize)\", data=df).fit()\n",
    "reg_model.summary()"
   ]
  },
  {
   "cell_type": "markdown",
   "id": "c8ade709",
   "metadata": {},
   "source": [
    "## 8. Bootstrapping (Robust CI)"
   ]
  },
  {
   "cell_type": "code",
   "execution_count": 16,
   "id": "cefce811",
   "metadata": {},
   "outputs": [
    {
     "data": {
      "text/html": [
       "<div>\n",
       "<style scoped>\n",
       "    .dataframe tbody tr th:only-of-type {\n",
       "        vertical-align: middle;\n",
       "    }\n",
       "\n",
       "    .dataframe tbody tr th {\n",
       "        vertical-align: top;\n",
       "    }\n",
       "\n",
       "    .dataframe thead th {\n",
       "        text-align: right;\n",
       "    }\n",
       "</style>\n",
       "<table border=\"1\" class=\"dataframe\">\n",
       "  <thead>\n",
       "    <tr style=\"text-align: right;\">\n",
       "      <th>Promotion</th>\n",
       "      <th>1</th>\n",
       "      <th>2</th>\n",
       "      <th>3</th>\n",
       "    </tr>\n",
       "  </thead>\n",
       "  <tbody>\n",
       "    <tr>\n",
       "      <th>count</th>\n",
       "      <td>5000.000000</td>\n",
       "      <td>5000.000000</td>\n",
       "      <td>5000.000000</td>\n",
       "    </tr>\n",
       "    <tr>\n",
       "      <th>mean</th>\n",
       "      <td>58.080583</td>\n",
       "      <td>47.357663</td>\n",
       "      <td>55.365563</td>\n",
       "    </tr>\n",
       "    <tr>\n",
       "      <th>std</th>\n",
       "      <td>1.270149</td>\n",
       "      <td>1.094440</td>\n",
       "      <td>1.228005</td>\n",
       "    </tr>\n",
       "    <tr>\n",
       "      <th>min</th>\n",
       "      <td>53.387811</td>\n",
       "      <td>43.654855</td>\n",
       "      <td>50.971862</td>\n",
       "    </tr>\n",
       "    <tr>\n",
       "      <th>2.5%</th>\n",
       "      <td>55.649843</td>\n",
       "      <td>45.287990</td>\n",
       "      <td>52.948255</td>\n",
       "    </tr>\n",
       "    <tr>\n",
       "      <th>50%</th>\n",
       "      <td>58.057356</td>\n",
       "      <td>47.341212</td>\n",
       "      <td>55.343307</td>\n",
       "    </tr>\n",
       "    <tr>\n",
       "      <th>97.5%</th>\n",
       "      <td>60.694708</td>\n",
       "      <td>49.567109</td>\n",
       "      <td>57.823279</td>\n",
       "    </tr>\n",
       "    <tr>\n",
       "      <th>max</th>\n",
       "      <td>62.844444</td>\n",
       "      <td>51.071141</td>\n",
       "      <td>59.444650</td>\n",
       "    </tr>\n",
       "  </tbody>\n",
       "</table>\n",
       "</div>"
      ],
      "text/plain": [
       "Promotion            1            2            3\n",
       "count      5000.000000  5000.000000  5000.000000\n",
       "mean         58.080583    47.357663    55.365563\n",
       "std           1.270149     1.094440     1.228005\n",
       "min          53.387811    43.654855    50.971862\n",
       "2.5%         55.649843    45.287990    52.948255\n",
       "50%          58.057356    47.341212    55.343307\n",
       "97.5%        60.694708    49.567109    57.823279\n",
       "max          62.844444    51.071141    59.444650"
      ]
     },
     "execution_count": 16,
     "metadata": {},
     "output_type": "execute_result"
    }
   ],
   "source": [
    "boot_means = []\n",
    "for _ in range(5000):\n",
    "    sample = df.sample(frac=1, replace=True)\n",
    "    boot_means.append(sample.groupby(\"Promotion\")[\"SalesInThousands\"].mean())\n",
    "boot_df = pd.DataFrame(boot_means)\n",
    "\n",
    "boot_df.describe(percentiles=[.025, .975])\n"
   ]
  },
  {
   "cell_type": "markdown",
   "id": "54b79ccf",
   "metadata": {},
   "source": [
    "## 9. Visualization of Results"
   ]
  },
  {
   "cell_type": "code",
   "execution_count": null,
   "id": "c3cc8d0b",
   "metadata": {},
   "outputs": [
    {
     "data": {
      "image/png": "[encoded data removed]",
      "text/plain": [
       "<Figure size 640x480 with 1 Axes>"
      ]
     },
     "metadata": {},
     "output_type": "display_data"
    }
   ],
   "source": [
    "sns.barplot(x=\"Promotion\", y=\"SalesInThousands\", data=df, estimator=np.mean, ci=95)\n",
    "plt.title(\"Average Weekly Sales by Promotion (95% CI)\")\n",
    "plt.ylabel(\"Sales (thousands)\")\n",
    "plt.show()\n",
    "# Save plot\n",
    "plot_path = \"reports/avg_sales_plot.png\"\n",
    "plt.savefig(plot_path, dpi=300)\n",
    "plt.close()\n"
   ]
  },
  {
   "cell_type": "markdown",
   "id": "cd1cf155",
   "metadata": {},
   "source": [
    "## 10. Business Recommendation"
   ]
  },
  {
   "cell_type": "code",
   "execution_count": null,
   "id": "ec518d1e",
   "metadata": {},
   "outputs": [
    {
     "name": "stdout",
     "output_type": "stream",
     "text": [
      "\n",
      "Key Findings:\n",
      "- Promotion 2 had the highest average sales (~12.5k).\n",
      "- ANOVA: statistically significant difference (p < 0.01).\n",
      "- Tukey tests: Promotion 2 > Promotion 1 and Promotion 3.\n",
      "- Regression (adjusted): Promotion 2 effect robust.\n",
      "\n",
      "Recommendation:\n",
      "Adopt Promotion 2 as the primary strategy for launching the new menu item.\n",
      "\n"
     ]
    }
   ],
   "source": [
    "print(\"\"\"\n",
    "Regression Results:\n",
    "- Promotion 2 significantly underperforms Promotion 1 (-10.75 units, p<0.001)\n",
    "- Promotion 3 is similar to Promotion 1 (not significant)\n",
    "- Market size affects sales (smaller markets sell less)\n",
    "- Age of store has no significant effect\n",
    "\n",
    "Conclusion: Promotion 1 remains the best choice; recommendation is robust.\n",
    "\"\"\")\n"
   ]
  }
 ],
 "metadata": {
  "kernelspec": {
   "display_name": "Python 3",
   "language": "python",
   "name": "python3"
  },
  "language_info": {
   "codemirror_mode": {
    "name": "ipython",
    "version": 3
   },
   "file_extension": ".py",
   "mimetype": "text/x-python",
   "name": "python",
   "nbconvert_exporter": "python",
   "pygments_lexer": "ipython3",
   "version": "3.10.11"
  }
 },
 "nbformat": 4,
 "nbformat_minor": 5
}
